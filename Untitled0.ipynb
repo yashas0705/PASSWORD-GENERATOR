{
  "nbformat": 4,
  "nbformat_minor": 0,
  "metadata": {
    "colab": {
      "provenance": [],
      "authorship_tag": "ABX9TyPJEfk/rRwg8qUnFrQBRFEc",
      "include_colab_link": true
    },
    "kernelspec": {
      "name": "python3",
      "display_name": "Python 3"
    },
    "language_info": {
      "name": "python"
    }
  },
  "cells": [
    {
      "cell_type": "markdown",
      "metadata": {
        "id": "view-in-github",
        "colab_type": "text"
      },
      "source": [
        "<a href=\"https://colab.research.google.com/github/yashas0705/PASSWORD-GENERATOR/blob/main/Untitled0.ipynb\" target=\"_parent\"><img src=\"https://colab.research.google.com/assets/colab-badge.svg\" alt=\"Open In Colab\"/></a>"
      ]
    },
    {
      "cell_type": "code",
      "execution_count": 1,
      "metadata": {
        "colab": {
          "base_uri": "https://localhost:8080/"
        },
        "id": "OjX0PAu6T1GO",
        "outputId": "09c9081b-7adc-4650-96fd-8c67e41a37e5"
      },
      "outputs": [
        {
          "output_type": "stream",
          "name": "stdout",
          "text": [
            "Enter desired password length: 5\n",
            "Include digits? (y/n): y\n",
            "Include symbols? (y/n): n\n",
            "Generated Password: RSmbe\n"
          ]
        }
      ],
      "source": [
        "import random\n",
        "import string\n",
        "\n",
        "def generate_password(length=12, use_digits=True, use_symbols=True):\n",
        "    # Base character set: letters\n",
        "    characters = string.ascii_letters  # a-z, A-Z\n",
        "\n",
        "    if use_digits:\n",
        "        characters += string.digits      # 0-9\n",
        "    if use_symbols:\n",
        "        characters += string.punctuation # Special symbols like !@#$%\n",
        "\n",
        "    if not characters:\n",
        "        raise ValueError(\"No character types selected for password generation.\")\n",
        "\n",
        "    # Generate password\n",
        "    password = ''.join(random.choice(characters) for _ in range(length))\n",
        "    return password\n",
        "\n",
        "# Example usage\n",
        "if __name__ == \"__main__\":\n",
        "    length = int(input(\"Enter desired password length: \"))\n",
        "    include_digits = input(\"Include digits? (y/n): \").lower() == 'y'\n",
        "    include_symbols = input(\"Include symbols? (y/n): \").lower() == 'y'\n",
        "\n",
        "    password = generate_password(length, include_digits, include_symbols)\n",
        "    print(\"Generated Password:\", password)\n",
        ""
      ]
    }
  ]
}